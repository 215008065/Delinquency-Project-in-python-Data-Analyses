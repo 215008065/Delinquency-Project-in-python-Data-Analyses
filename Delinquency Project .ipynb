{
 "cells": [
  {
   "cell_type": "code",
   "execution_count": 1,
   "id": "906fab15",
   "metadata": {},
   "outputs": [],
   "source": [
    "import numpy as np\n",
    "import pandas as pd\n",
    "import seaborn as sns\n",
    "import matplotlib.pyplot as plt"
   ]
  },
  {
   "cell_type": "code",
   "execution_count": 115,
   "id": "793eae41",
   "metadata": {},
   "outputs": [],
   "source": [
    "data = pd.read_excel(r\"C:\\Users\\USER 01\\Desktop\\datax.xlsx\")"
   ]
  },
  {
   "cell_type": "code",
   "execution_count": 116,
   "id": "27f68575",
   "metadata": {},
   "outputs": [
    {
     "data": {
      "text/html": [
       "<div>\n",
       "<style scoped>\n",
       "    .dataframe tbody tr th:only-of-type {\n",
       "        vertical-align: middle;\n",
       "    }\n",
       "\n",
       "    .dataframe tbody tr th {\n",
       "        vertical-align: top;\n",
       "    }\n",
       "\n",
       "    .dataframe thead th {\n",
       "        text-align: right;\n",
       "    }\n",
       "</style>\n",
       "<table border=\"1\" class=\"dataframe\">\n",
       "  <thead>\n",
       "    <tr style=\"text-align: right;\">\n",
       "      <th></th>\n",
       "      <th>Client Employer</th>\n",
       "      <th>Number of Active Clients for Reporting Period</th>\n",
       "      <th>Loan Capital Amount</th>\n",
       "      <th>Arrears</th>\n",
       "      <th>Delinquency (%)</th>\n",
       "      <th>Actual Received</th>\n",
       "      <th>Unnamed: 6</th>\n",
       "      <th>Unnamed: 7</th>\n",
       "      <th>Unnamed: 8</th>\n",
       "    </tr>\n",
       "  </thead>\n",
       "  <tbody>\n",
       "    <tr>\n",
       "      <th>0</th>\n",
       "      <td>ZIMMERMAN GARAGE (PTY) LTD</td>\n",
       "      <td>1</td>\n",
       "      <td>6650</td>\n",
       "      <td>2340.00</td>\n",
       "      <td>22.09</td>\n",
       "      <td>8255.01</td>\n",
       "      <td>NaN</td>\n",
       "      <td>NaN</td>\n",
       "      <td>NaN</td>\n",
       "    </tr>\n",
       "    <tr>\n",
       "      <th>1</th>\n",
       "      <td>ZIBO AUTOMOTIVE</td>\n",
       "      <td>1</td>\n",
       "      <td>3400</td>\n",
       "      <td>1495.00</td>\n",
       "      <td>33.82</td>\n",
       "      <td>2925.00</td>\n",
       "      <td>NaN</td>\n",
       "      <td>NaN</td>\n",
       "      <td>NaN</td>\n",
       "    </tr>\n",
       "    <tr>\n",
       "      <th>2</th>\n",
       "      <td>ZANINA CONSTRUCTION</td>\n",
       "      <td>1</td>\n",
       "      <td>6250</td>\n",
       "      <td>2708.34</td>\n",
       "      <td>33.33</td>\n",
       "      <td>5416.66</td>\n",
       "      <td>NaN</td>\n",
       "      <td>NaN</td>\n",
       "      <td>NaN</td>\n",
       "    </tr>\n",
       "    <tr>\n",
       "      <th>3</th>\n",
       "      <td>ZAMBIA HIGH COMMISSION</td>\n",
       "      <td>1</td>\n",
       "      <td>13300</td>\n",
       "      <td>6890.00</td>\n",
       "      <td>39.85</td>\n",
       "      <td>17290.00</td>\n",
       "      <td>NaN</td>\n",
       "      <td>NaN</td>\n",
       "      <td>NaN</td>\n",
       "    </tr>\n",
       "    <tr>\n",
       "      <th>4</th>\n",
       "      <td>ZAMBEZI SHELL SPARES</td>\n",
       "      <td>7</td>\n",
       "      <td>19220</td>\n",
       "      <td>3575.00</td>\n",
       "      <td>16.43</td>\n",
       "      <td>24873.66</td>\n",
       "      <td>NaN</td>\n",
       "      <td>NaN</td>\n",
       "      <td>NaN</td>\n",
       "    </tr>\n",
       "  </tbody>\n",
       "</table>\n",
       "</div>"
      ],
      "text/plain": [
       "              Client Employer  Number of Active Clients for Reporting Period  \\\n",
       "0  ZIMMERMAN GARAGE (PTY) LTD                                              1   \n",
       "1             ZIBO AUTOMOTIVE                                              1   \n",
       "2         ZANINA CONSTRUCTION                                              1   \n",
       "3      ZAMBIA HIGH COMMISSION                                              1   \n",
       "4        ZAMBEZI SHELL SPARES                                              7   \n",
       "\n",
       "   Loan Capital Amount  Arrears  Delinquency (%)  Actual Received  Unnamed: 6  \\\n",
       "0                 6650  2340.00            22.09          8255.01         NaN   \n",
       "1                 3400  1495.00            33.82          2925.00         NaN   \n",
       "2                 6250  2708.34            33.33          5416.66         NaN   \n",
       "3                13300  6890.00            39.85         17290.00         NaN   \n",
       "4                19220  3575.00            16.43         24873.66         NaN   \n",
       "\n",
       "   Unnamed: 7  Unnamed: 8  \n",
       "0         NaN         NaN  \n",
       "1         NaN         NaN  \n",
       "2         NaN         NaN  \n",
       "3         NaN         NaN  \n",
       "4         NaN         NaN  "
      ]
     },
     "execution_count": 116,
     "metadata": {},
     "output_type": "execute_result"
    }
   ],
   "source": [
    "data.head()"
   ]
  },
  {
   "cell_type": "code",
   "execution_count": 117,
   "id": "c44acfb2",
   "metadata": {},
   "outputs": [
    {
     "data": {
      "text/plain": [
       "(1882, 9)"
      ]
     },
     "execution_count": 117,
     "metadata": {},
     "output_type": "execute_result"
    }
   ],
   "source": [
    "data.shape"
   ]
  },
  {
   "cell_type": "code",
   "execution_count": 118,
   "id": "abd7b146",
   "metadata": {},
   "outputs": [],
   "source": [
    "columns_drop=[\"Unnamed: 6\",\"Unnamed: 7\", \"Unnamed: 8\"]"
   ]
  },
  {
   "cell_type": "code",
   "execution_count": 119,
   "id": "7a3322d5",
   "metadata": {},
   "outputs": [],
   "source": [
    "data.drop(columns=columns_drop, inplace=True)"
   ]
  },
  {
   "cell_type": "code",
   "execution_count": 120,
   "id": "3f6055c0",
   "metadata": {},
   "outputs": [
    {
     "data": {
      "text/html": [
       "<div>\n",
       "<style scoped>\n",
       "    .dataframe tbody tr th:only-of-type {\n",
       "        vertical-align: middle;\n",
       "    }\n",
       "\n",
       "    .dataframe tbody tr th {\n",
       "        vertical-align: top;\n",
       "    }\n",
       "\n",
       "    .dataframe thead th {\n",
       "        text-align: right;\n",
       "    }\n",
       "</style>\n",
       "<table border=\"1\" class=\"dataframe\">\n",
       "  <thead>\n",
       "    <tr style=\"text-align: right;\">\n",
       "      <th></th>\n",
       "      <th>Client Employer</th>\n",
       "      <th>Number of Active Clients for Reporting Period</th>\n",
       "      <th>Loan Capital Amount</th>\n",
       "      <th>Arrears</th>\n",
       "      <th>Delinquency (%)</th>\n",
       "      <th>Actual Received</th>\n",
       "    </tr>\n",
       "  </thead>\n",
       "  <tbody>\n",
       "    <tr>\n",
       "      <th>0</th>\n",
       "      <td>ZIMMERMAN GARAGE (PTY) LTD</td>\n",
       "      <td>1</td>\n",
       "      <td>6650</td>\n",
       "      <td>2340.00</td>\n",
       "      <td>22.09</td>\n",
       "      <td>8255.01</td>\n",
       "    </tr>\n",
       "    <tr>\n",
       "      <th>1</th>\n",
       "      <td>ZIBO AUTOMOTIVE</td>\n",
       "      <td>1</td>\n",
       "      <td>3400</td>\n",
       "      <td>1495.00</td>\n",
       "      <td>33.82</td>\n",
       "      <td>2925.00</td>\n",
       "    </tr>\n",
       "    <tr>\n",
       "      <th>2</th>\n",
       "      <td>ZANINA CONSTRUCTION</td>\n",
       "      <td>1</td>\n",
       "      <td>6250</td>\n",
       "      <td>2708.34</td>\n",
       "      <td>33.33</td>\n",
       "      <td>5416.66</td>\n",
       "    </tr>\n",
       "    <tr>\n",
       "      <th>3</th>\n",
       "      <td>ZAMBIA HIGH COMMISSION</td>\n",
       "      <td>1</td>\n",
       "      <td>13300</td>\n",
       "      <td>6890.00</td>\n",
       "      <td>39.85</td>\n",
       "      <td>17290.00</td>\n",
       "    </tr>\n",
       "    <tr>\n",
       "      <th>4</th>\n",
       "      <td>ZAMBEZI SHELL SPARES</td>\n",
       "      <td>7</td>\n",
       "      <td>19220</td>\n",
       "      <td>3575.00</td>\n",
       "      <td>16.43</td>\n",
       "      <td>24873.66</td>\n",
       "    </tr>\n",
       "  </tbody>\n",
       "</table>\n",
       "</div>"
      ],
      "text/plain": [
       "              Client Employer  Number of Active Clients for Reporting Period  \\\n",
       "0  ZIMMERMAN GARAGE (PTY) LTD                                              1   \n",
       "1             ZIBO AUTOMOTIVE                                              1   \n",
       "2         ZANINA CONSTRUCTION                                              1   \n",
       "3      ZAMBIA HIGH COMMISSION                                              1   \n",
       "4        ZAMBEZI SHELL SPARES                                              7   \n",
       "\n",
       "   Loan Capital Amount  Arrears  Delinquency (%)  Actual Received  \n",
       "0                 6650  2340.00            22.09          8255.01  \n",
       "1                 3400  1495.00            33.82          2925.00  \n",
       "2                 6250  2708.34            33.33          5416.66  \n",
       "3                13300  6890.00            39.85         17290.00  \n",
       "4                19220  3575.00            16.43         24873.66  "
      ]
     },
     "execution_count": 120,
     "metadata": {},
     "output_type": "execute_result"
    }
   ],
   "source": [
    "data.head()"
   ]
  },
  {
   "cell_type": "code",
   "execution_count": 121,
   "id": "894f13ad",
   "metadata": {},
   "outputs": [],
   "source": [
    "data.rename(columns={\"Number of Active Clients for Reporting Period\":\"No_of_actC\", \"Loan Capital Amount\":\"Loan_CA\",\n",
    "                    \"Actual Received\":\"Actual_recieved\"}, inplace=True)"
   ]
  },
  {
   "cell_type": "code",
   "execution_count": 122,
   "id": "5d9a849c",
   "metadata": {},
   "outputs": [
    {
     "data": {
      "text/html": [
       "<div>\n",
       "<style scoped>\n",
       "    .dataframe tbody tr th:only-of-type {\n",
       "        vertical-align: middle;\n",
       "    }\n",
       "\n",
       "    .dataframe tbody tr th {\n",
       "        vertical-align: top;\n",
       "    }\n",
       "\n",
       "    .dataframe thead th {\n",
       "        text-align: right;\n",
       "    }\n",
       "</style>\n",
       "<table border=\"1\" class=\"dataframe\">\n",
       "  <thead>\n",
       "    <tr style=\"text-align: right;\">\n",
       "      <th></th>\n",
       "      <th>Client Employer</th>\n",
       "      <th>No_of_actC</th>\n",
       "      <th>Loan_CA</th>\n",
       "      <th>Arrears</th>\n",
       "      <th>Delinquency (%)</th>\n",
       "      <th>Actual_recieved</th>\n",
       "    </tr>\n",
       "  </thead>\n",
       "  <tbody>\n",
       "    <tr>\n",
       "      <th>0</th>\n",
       "      <td>ZIMMERMAN GARAGE (PTY) LTD</td>\n",
       "      <td>1</td>\n",
       "      <td>6650</td>\n",
       "      <td>2340.00</td>\n",
       "      <td>22.09</td>\n",
       "      <td>8255.01</td>\n",
       "    </tr>\n",
       "    <tr>\n",
       "      <th>1</th>\n",
       "      <td>ZIBO AUTOMOTIVE</td>\n",
       "      <td>1</td>\n",
       "      <td>3400</td>\n",
       "      <td>1495.00</td>\n",
       "      <td>33.82</td>\n",
       "      <td>2925.00</td>\n",
       "    </tr>\n",
       "    <tr>\n",
       "      <th>2</th>\n",
       "      <td>ZANINA CONSTRUCTION</td>\n",
       "      <td>1</td>\n",
       "      <td>6250</td>\n",
       "      <td>2708.34</td>\n",
       "      <td>33.33</td>\n",
       "      <td>5416.66</td>\n",
       "    </tr>\n",
       "    <tr>\n",
       "      <th>3</th>\n",
       "      <td>ZAMBIA HIGH COMMISSION</td>\n",
       "      <td>1</td>\n",
       "      <td>13300</td>\n",
       "      <td>6890.00</td>\n",
       "      <td>39.85</td>\n",
       "      <td>17290.00</td>\n",
       "    </tr>\n",
       "    <tr>\n",
       "      <th>4</th>\n",
       "      <td>ZAMBEZI SHELL SPARES</td>\n",
       "      <td>7</td>\n",
       "      <td>19220</td>\n",
       "      <td>3575.00</td>\n",
       "      <td>16.43</td>\n",
       "      <td>24873.66</td>\n",
       "    </tr>\n",
       "  </tbody>\n",
       "</table>\n",
       "</div>"
      ],
      "text/plain": [
       "              Client Employer  No_of_actC  Loan_CA  Arrears  Delinquency (%)  \\\n",
       "0  ZIMMERMAN GARAGE (PTY) LTD           1     6650  2340.00            22.09   \n",
       "1             ZIBO AUTOMOTIVE           1     3400  1495.00            33.82   \n",
       "2         ZANINA CONSTRUCTION           1     6250  2708.34            33.33   \n",
       "3      ZAMBIA HIGH COMMISSION           1    13300  6890.00            39.85   \n",
       "4        ZAMBEZI SHELL SPARES           7    19220  3575.00            16.43   \n",
       "\n",
       "   Actual_recieved  \n",
       "0          8255.01  \n",
       "1          2925.00  \n",
       "2          5416.66  \n",
       "3         17290.00  \n",
       "4         24873.66  "
      ]
     },
     "execution_count": 122,
     "metadata": {},
     "output_type": "execute_result"
    }
   ],
   "source": [
    "data.head()"
   ]
  },
  {
   "cell_type": "code",
   "execution_count": 166,
   "id": "2d598dc4",
   "metadata": {},
   "outputs": [],
   "source": [
    "datagee=data.groupby(\"Client Employer\").sum().sort_values(by=\"Arrears\", ascending=False) "
   ]
  },
  {
   "cell_type": "code",
   "execution_count": null,
   "id": "af259d38",
   "metadata": {},
   "outputs": [],
   "source": []
  },
  {
   "cell_type": "code",
   "execution_count": 171,
   "id": "676a1816",
   "metadata": {},
   "outputs": [],
   "source": [
    "dat_amoun= (datagee[\"Delinquency (%)\"]/100)*(datagee[\"Loan_CA\"])"
   ]
  },
  {
   "cell_type": "code",
   "execution_count": 172,
   "id": "98e979f2",
   "metadata": {},
   "outputs": [],
   "source": [
    "datagee[\"Deli_amount\"]=dat_amoun"
   ]
  },
  {
   "cell_type": "code",
   "execution_count": 173,
   "id": "2d5fd93b",
   "metadata": {},
   "outputs": [
    {
     "data": {
      "text/html": [
       "<div>\n",
       "<style scoped>\n",
       "    .dataframe tbody tr th:only-of-type {\n",
       "        vertical-align: middle;\n",
       "    }\n",
       "\n",
       "    .dataframe tbody tr th {\n",
       "        vertical-align: top;\n",
       "    }\n",
       "\n",
       "    .dataframe thead th {\n",
       "        text-align: right;\n",
       "    }\n",
       "</style>\n",
       "<table border=\"1\" class=\"dataframe\">\n",
       "  <thead>\n",
       "    <tr style=\"text-align: right;\">\n",
       "      <th></th>\n",
       "      <th>No_of_actC</th>\n",
       "      <th>Loan_CA</th>\n",
       "      <th>Arrears</th>\n",
       "      <th>Delinquency (%)</th>\n",
       "      <th>Actual_recieved</th>\n",
       "      <th>Deli_amount</th>\n",
       "    </tr>\n",
       "    <tr>\n",
       "      <th>Client Employer</th>\n",
       "      <th></th>\n",
       "      <th></th>\n",
       "      <th></th>\n",
       "      <th></th>\n",
       "      <th></th>\n",
       "      <th></th>\n",
       "    </tr>\n",
       "  </thead>\n",
       "  <tbody>\n",
       "    <tr>\n",
       "      <th>MINISTRY OF DEFENCE</th>\n",
       "      <td>2050</td>\n",
       "      <td>6691460</td>\n",
       "      <td>2860739.79</td>\n",
       "      <td>250.34</td>\n",
       "      <td>6633637.91</td>\n",
       "      <td>1.675140e+07</td>\n",
       "    </tr>\n",
       "    <tr>\n",
       "      <th>MINISTRY OF HEALTH &amp; SOCIAL SERVICES</th>\n",
       "      <td>1017</td>\n",
       "      <td>3361050</td>\n",
       "      <td>1307687.43</td>\n",
       "      <td>244.25</td>\n",
       "      <td>3285514.22</td>\n",
       "      <td>8.209365e+06</td>\n",
       "    </tr>\n",
       "    <tr>\n",
       "      <th>MINISTRY OF EDUCATION</th>\n",
       "      <td>4083</td>\n",
       "      <td>22717190</td>\n",
       "      <td>1019658.62</td>\n",
       "      <td>52.34</td>\n",
       "      <td>28343924.91</td>\n",
       "      <td>1.189018e+07</td>\n",
       "    </tr>\n",
       "    <tr>\n",
       "      <th>MINISTRY OF SAFETY &amp; SECURITY (POLICE)</th>\n",
       "      <td>1401</td>\n",
       "      <td>5920650</td>\n",
       "      <td>462778.20</td>\n",
       "      <td>26.39</td>\n",
       "      <td>7478456.33</td>\n",
       "      <td>1.562460e+06</td>\n",
       "    </tr>\n",
       "    <tr>\n",
       "      <th>CITY OF WINDHOEK</th>\n",
       "      <td>122</td>\n",
       "      <td>953400</td>\n",
       "      <td>382039.12</td>\n",
       "      <td>141.85</td>\n",
       "      <td>929906.86</td>\n",
       "      <td>1.352398e+06</td>\n",
       "    </tr>\n",
       "  </tbody>\n",
       "</table>\n",
       "</div>"
      ],
      "text/plain": [
       "                                        No_of_actC   Loan_CA     Arrears  \\\n",
       "Client Employer                                                            \n",
       "MINISTRY OF DEFENCE                           2050   6691460  2860739.79   \n",
       "MINISTRY OF HEALTH & SOCIAL SERVICES          1017   3361050  1307687.43   \n",
       "MINISTRY OF EDUCATION                         4083  22717190  1019658.62   \n",
       "MINISTRY OF SAFETY & SECURITY (POLICE)        1401   5920650   462778.20   \n",
       "CITY OF WINDHOEK                               122    953400   382039.12   \n",
       "\n",
       "                                        Delinquency (%)  Actual_recieved  \\\n",
       "Client Employer                                                            \n",
       "MINISTRY OF DEFENCE                              250.34       6633637.91   \n",
       "MINISTRY OF HEALTH & SOCIAL SERVICES             244.25       3285514.22   \n",
       "MINISTRY OF EDUCATION                             52.34      28343924.91   \n",
       "MINISTRY OF SAFETY & SECURITY (POLICE)            26.39       7478456.33   \n",
       "CITY OF WINDHOEK                                 141.85        929906.86   \n",
       "\n",
       "                                         Deli_amount  \n",
       "Client Employer                                       \n",
       "MINISTRY OF DEFENCE                     1.675140e+07  \n",
       "MINISTRY OF HEALTH & SOCIAL SERVICES    8.209365e+06  \n",
       "MINISTRY OF EDUCATION                   1.189018e+07  \n",
       "MINISTRY OF SAFETY & SECURITY (POLICE)  1.562460e+06  \n",
       "CITY OF WINDHOEK                        1.352398e+06  "
      ]
     },
     "execution_count": 173,
     "metadata": {},
     "output_type": "execute_result"
    }
   ],
   "source": [
    "datagee.head()"
   ]
  },
  {
   "cell_type": "code",
   "execution_count": 174,
   "id": "08db6ea2",
   "metadata": {},
   "outputs": [
    {
     "data": {
      "text/plain": [
       "<seaborn.axisgrid.FacetGrid at 0x1ccdab001f0>"
      ]
     },
     "execution_count": 174,
     "metadata": {},
     "output_type": "execute_result"
    },
    {
     "data": {
      "image/png": "[encoded data removed]",
      "text/plain": [
       "<Figure size 360x360 with 1 Axes>"
      ]
     },
     "metadata": {
      "needs_background": "light"
     },
     "output_type": "display_data"
    }
   ],
   "source": [
    "sns.lmplot(y='Arrears', x='Deli_amount',fit_reg=True, data=datagee)"
   ]
  },
  {
   "cell_type": "code",
   "execution_count": 130,
   "id": "9b422568",
   "metadata": {},
   "outputs": [],
   "source": [
    "datag=data.groupby(\"Client Employer\").sum().sort_values(by=\"Arrears\", ascending=False).head(50)            "
   ]
  },
  {
   "cell_type": "code",
   "execution_count": 132,
   "id": "e9dc9a1f",
   "metadata": {},
   "outputs": [],
   "source": [
    "datarr=data.groupby(\"Client Employer\").mean().sort_values(by=\"Arrears\", ascending=False).head(50)  "
   ]
  },
  {
   "cell_type": "code",
   "execution_count": 133,
   "id": "dcc376e3",
   "metadata": {},
   "outputs": [],
   "source": [
    "datag[\"Delinquency_per\"]=datarr[\"Delinquency (%)\"]"
   ]
  },
  {
   "cell_type": "code",
   "execution_count": 134,
   "id": "69e56c57",
   "metadata": {},
   "outputs": [
    {
     "data": {
      "text/html": [
       "<div>\n",
       "<style scoped>\n",
       "    .dataframe tbody tr th:only-of-type {\n",
       "        vertical-align: middle;\n",
       "    }\n",
       "\n",
       "    .dataframe tbody tr th {\n",
       "        vertical-align: top;\n",
       "    }\n",
       "\n",
       "    .dataframe thead th {\n",
       "        text-align: right;\n",
       "    }\n",
       "</style>\n",
       "<table border=\"1\" class=\"dataframe\">\n",
       "  <thead>\n",
       "    <tr style=\"text-align: right;\">\n",
       "      <th></th>\n",
       "      <th>No_of_actC</th>\n",
       "      <th>Loan_CA</th>\n",
       "      <th>Arrears</th>\n",
       "      <th>Delinquency (%)</th>\n",
       "      <th>Actual_recieved</th>\n",
       "      <th>Delinquency_per</th>\n",
       "    </tr>\n",
       "    <tr>\n",
       "      <th>Client Employer</th>\n",
       "      <th></th>\n",
       "      <th></th>\n",
       "      <th></th>\n",
       "      <th></th>\n",
       "      <th></th>\n",
       "      <th></th>\n",
       "    </tr>\n",
       "  </thead>\n",
       "  <tbody>\n",
       "    <tr>\n",
       "      <th>MINISTRY OF DEFENCE</th>\n",
       "      <td>256.250</td>\n",
       "      <td>836432.50</td>\n",
       "      <td>357592.47375</td>\n",
       "      <td>31.29250</td>\n",
       "      <td>8.292047e+05</td>\n",
       "      <td>31.29250</td>\n",
       "    </tr>\n",
       "    <tr>\n",
       "      <th>MINISTRY OF HEALTH &amp; SOCIAL SERVICES</th>\n",
       "      <td>127.125</td>\n",
       "      <td>420131.25</td>\n",
       "      <td>163460.92875</td>\n",
       "      <td>30.53125</td>\n",
       "      <td>4.106893e+05</td>\n",
       "      <td>30.53125</td>\n",
       "    </tr>\n",
       "    <tr>\n",
       "      <th>GIPF / BENEFICIARIES</th>\n",
       "      <td>475.500</td>\n",
       "      <td>2215320.00</td>\n",
       "      <td>156456.06500</td>\n",
       "      <td>6.39500</td>\n",
       "      <td>2.936257e+06</td>\n",
       "      <td>6.39500</td>\n",
       "    </tr>\n",
       "    <tr>\n",
       "      <th>MINISTRY OF EDUCATION</th>\n",
       "      <td>510.375</td>\n",
       "      <td>2839648.75</td>\n",
       "      <td>127457.32750</td>\n",
       "      <td>6.54250</td>\n",
       "      <td>3.542991e+06</td>\n",
       "      <td>6.54250</td>\n",
       "    </tr>\n",
       "    <tr>\n",
       "      <th>MINISTRY OF SAFETY &amp; SECURITY (POLICE)</th>\n",
       "      <td>350.250</td>\n",
       "      <td>1480162.50</td>\n",
       "      <td>115694.55000</td>\n",
       "      <td>6.59750</td>\n",
       "      <td>1.869614e+06</td>\n",
       "      <td>6.59750</td>\n",
       "    </tr>\n",
       "  </tbody>\n",
       "</table>\n",
       "</div>"
      ],
      "text/plain": [
       "                                        No_of_actC     Loan_CA       Arrears  \\\n",
       "Client Employer                                                                \n",
       "MINISTRY OF DEFENCE                        256.250   836432.50  357592.47375   \n",
       "MINISTRY OF HEALTH & SOCIAL SERVICES       127.125   420131.25  163460.92875   \n",
       "GIPF / BENEFICIARIES                       475.500  2215320.00  156456.06500   \n",
       "MINISTRY OF EDUCATION                      510.375  2839648.75  127457.32750   \n",
       "MINISTRY OF SAFETY & SECURITY (POLICE)     350.250  1480162.50  115694.55000   \n",
       "\n",
       "                                        Delinquency (%)  Actual_recieved  \\\n",
       "Client Employer                                                            \n",
       "MINISTRY OF DEFENCE                            31.29250     8.292047e+05   \n",
       "MINISTRY OF HEALTH & SOCIAL SERVICES           30.53125     4.106893e+05   \n",
       "GIPF / BENEFICIARIES                            6.39500     2.936257e+06   \n",
       "MINISTRY OF EDUCATION                           6.54250     3.542991e+06   \n",
       "MINISTRY OF SAFETY & SECURITY (POLICE)          6.59750     1.869614e+06   \n",
       "\n",
       "                                        Delinquency_per  \n",
       "Client Employer                                          \n",
       "MINISTRY OF DEFENCE                            31.29250  \n",
       "MINISTRY OF HEALTH & SOCIAL SERVICES           30.53125  \n",
       "GIPF / BENEFICIARIES                            6.39500  \n",
       "MINISTRY OF EDUCATION                           6.54250  \n",
       "MINISTRY OF SAFETY & SECURITY (POLICE)          6.59750  "
      ]
     },
     "execution_count": 134,
     "metadata": {},
     "output_type": "execute_result"
    }
   ],
   "source": [
    "datag.head()"
   ]
  },
  {
   "cell_type": "code",
   "execution_count": 147,
   "id": "400e9c98",
   "metadata": {},
   "outputs": [],
   "source": [
    "dat_amount= (datag[\"Delinquency_per\"]/100)*(datag[\"Loan_CA\"])"
   ]
  },
  {
   "cell_type": "code",
   "execution_count": 148,
   "id": "1cdec236",
   "metadata": {},
   "outputs": [],
   "source": [
    "datag[\"Deli_amount\"]=dat_amount"
   ]
  },
  {
   "cell_type": "code",
   "execution_count": 154,
   "id": "bc9af2ce",
   "metadata": {},
   "outputs": [
    {
     "data": {
      "text/html": [
       "<div>\n",
       "<style scoped>\n",
       "    .dataframe tbody tr th:only-of-type {\n",
       "        vertical-align: middle;\n",
       "    }\n",
       "\n",
       "    .dataframe tbody tr th {\n",
       "        vertical-align: top;\n",
       "    }\n",
       "\n",
       "    .dataframe thead th {\n",
       "        text-align: right;\n",
       "    }\n",
       "</style>\n",
       "<table border=\"1\" class=\"dataframe\">\n",
       "  <thead>\n",
       "    <tr style=\"text-align: right;\">\n",
       "      <th></th>\n",
       "      <th>No_of_actC</th>\n",
       "      <th>Loan_CA</th>\n",
       "      <th>Arrears</th>\n",
       "      <th>Delinquency (%)</th>\n",
       "      <th>Actual_recieved</th>\n",
       "      <th>Delinquency_per</th>\n",
       "      <th>Deli_amount</th>\n",
       "    </tr>\n",
       "    <tr>\n",
       "      <th>Client Employer</th>\n",
       "      <th></th>\n",
       "      <th></th>\n",
       "      <th></th>\n",
       "      <th></th>\n",
       "      <th></th>\n",
       "      <th></th>\n",
       "      <th></th>\n",
       "    </tr>\n",
       "  </thead>\n",
       "  <tbody>\n",
       "    <tr>\n",
       "      <th>MINISTRY OF DEFENCE</th>\n",
       "      <td>256.250</td>\n",
       "      <td>836432.50</td>\n",
       "      <td>357592.47375</td>\n",
       "      <td>31.29250</td>\n",
       "      <td>8.292047e+05</td>\n",
       "      <td>31.29250</td>\n",
       "      <td>261740.640062</td>\n",
       "    </tr>\n",
       "    <tr>\n",
       "      <th>MINISTRY OF HEALTH &amp; SOCIAL SERVICES</th>\n",
       "      <td>127.125</td>\n",
       "      <td>420131.25</td>\n",
       "      <td>163460.92875</td>\n",
       "      <td>30.53125</td>\n",
       "      <td>4.106893e+05</td>\n",
       "      <td>30.53125</td>\n",
       "      <td>128271.322266</td>\n",
       "    </tr>\n",
       "    <tr>\n",
       "      <th>GIPF / BENEFICIARIES</th>\n",
       "      <td>475.500</td>\n",
       "      <td>2215320.00</td>\n",
       "      <td>156456.06500</td>\n",
       "      <td>6.39500</td>\n",
       "      <td>2.936257e+06</td>\n",
       "      <td>6.39500</td>\n",
       "      <td>141669.714000</td>\n",
       "    </tr>\n",
       "    <tr>\n",
       "      <th>MINISTRY OF EDUCATION</th>\n",
       "      <td>510.375</td>\n",
       "      <td>2839648.75</td>\n",
       "      <td>127457.32750</td>\n",
       "      <td>6.54250</td>\n",
       "      <td>3.542991e+06</td>\n",
       "      <td>6.54250</td>\n",
       "      <td>185784.019469</td>\n",
       "    </tr>\n",
       "    <tr>\n",
       "      <th>MINISTRY OF SAFETY &amp; SECURITY (POLICE)</th>\n",
       "      <td>350.250</td>\n",
       "      <td>1480162.50</td>\n",
       "      <td>115694.55000</td>\n",
       "      <td>6.59750</td>\n",
       "      <td>1.869614e+06</td>\n",
       "      <td>6.59750</td>\n",
       "      <td>97653.720938</td>\n",
       "    </tr>\n",
       "  </tbody>\n",
       "</table>\n",
       "</div>"
      ],
      "text/plain": [
       "                                        No_of_actC     Loan_CA       Arrears  \\\n",
       "Client Employer                                                                \n",
       "MINISTRY OF DEFENCE                        256.250   836432.50  357592.47375   \n",
       "MINISTRY OF HEALTH & SOCIAL SERVICES       127.125   420131.25  163460.92875   \n",
       "GIPF / BENEFICIARIES                       475.500  2215320.00  156456.06500   \n",
       "MINISTRY OF EDUCATION                      510.375  2839648.75  127457.32750   \n",
       "MINISTRY OF SAFETY & SECURITY (POLICE)     350.250  1480162.50  115694.55000   \n",
       "\n",
       "                                        Delinquency (%)  Actual_recieved  \\\n",
       "Client Employer                                                            \n",
       "MINISTRY OF DEFENCE                            31.29250     8.292047e+05   \n",
       "MINISTRY OF HEALTH & SOCIAL SERVICES           30.53125     4.106893e+05   \n",
       "GIPF / BENEFICIARIES                            6.39500     2.936257e+06   \n",
       "MINISTRY OF EDUCATION                           6.54250     3.542991e+06   \n",
       "MINISTRY OF SAFETY & SECURITY (POLICE)          6.59750     1.869614e+06   \n",
       "\n",
       "                                        Delinquency_per    Deli_amount  \n",
       "Client Employer                                                         \n",
       "MINISTRY OF DEFENCE                            31.29250  261740.640062  \n",
       "MINISTRY OF HEALTH & SOCIAL SERVICES           30.53125  128271.322266  \n",
       "GIPF / BENEFICIARIES                            6.39500  141669.714000  \n",
       "MINISTRY OF EDUCATION                           6.54250  185784.019469  \n",
       "MINISTRY OF SAFETY & SECURITY (POLICE)          6.59750   97653.720938  "
      ]
     },
     "execution_count": 154,
     "metadata": {},
     "output_type": "execute_result"
    }
   ],
   "source": [
    "datag.head()"
   ]
  },
  {
   "cell_type": "code",
   "execution_count": 159,
   "id": "722b9adc",
   "metadata": {},
   "outputs": [
    {
     "data": {
      "text/html": [
       "<div>\n",
       "<style scoped>\n",
       "    .dataframe tbody tr th:only-of-type {\n",
       "        vertical-align: middle;\n",
       "    }\n",
       "\n",
       "    .dataframe tbody tr th {\n",
       "        vertical-align: top;\n",
       "    }\n",
       "\n",
       "    .dataframe thead th {\n",
       "        text-align: right;\n",
       "    }\n",
       "</style>\n",
       "<table border=\"1\" class=\"dataframe\">\n",
       "  <thead>\n",
       "    <tr style=\"text-align: right;\">\n",
       "      <th></th>\n",
       "      <th>No_of_actC</th>\n",
       "      <th>Loan_CA</th>\n",
       "      <th>Arrears</th>\n",
       "      <th>Delinquency (%)</th>\n",
       "      <th>Actual_recieved</th>\n",
       "      <th>Delinquency_per</th>\n",
       "      <th>Deli_amount</th>\n",
       "    </tr>\n",
       "  </thead>\n",
       "  <tbody>\n",
       "    <tr>\n",
       "      <th>No_of_actC</th>\n",
       "      <td>1.198521e+04</td>\n",
       "      <td>5.692656e+07</td>\n",
       "      <td>4.227446e+06</td>\n",
       "      <td>-6.968293e+02</td>\n",
       "      <td>7.209301e+07</td>\n",
       "      <td>-6.968293e+02</td>\n",
       "      <td>4.142846e+06</td>\n",
       "    </tr>\n",
       "    <tr>\n",
       "      <th>Loan_CA</th>\n",
       "      <td>5.692656e+07</td>\n",
       "      <td>2.852489e+11</td>\n",
       "      <td>1.763934e+10</td>\n",
       "      <td>-3.647941e+06</td>\n",
       "      <td>3.623109e+11</td>\n",
       "      <td>-3.647941e+06</td>\n",
       "      <td>1.897865e+10</td>\n",
       "    </tr>\n",
       "    <tr>\n",
       "      <th>Arrears</th>\n",
       "      <td>4.227446e+06</td>\n",
       "      <td>1.763934e+10</td>\n",
       "      <td>3.363942e+09</td>\n",
       "      <td>-9.455239e+04</td>\n",
       "      <td>2.083093e+10</td>\n",
       "      <td>-9.455239e+04</td>\n",
       "      <td>2.717667e+09</td>\n",
       "    </tr>\n",
       "    <tr>\n",
       "      <th>Delinquency (%)</th>\n",
       "      <td>-6.968293e+02</td>\n",
       "      <td>-3.647941e+06</td>\n",
       "      <td>-9.455239e+04</td>\n",
       "      <td>1.694549e+02</td>\n",
       "      <td>-4.717830e+06</td>\n",
       "      <td>1.694549e+02</td>\n",
       "      <td>-1.290821e+05</td>\n",
       "    </tr>\n",
       "    <tr>\n",
       "      <th>Actual_recieved</th>\n",
       "      <td>7.209301e+07</td>\n",
       "      <td>3.623109e+11</td>\n",
       "      <td>2.083093e+10</td>\n",
       "      <td>-4.717830e+06</td>\n",
       "      <td>4.624570e+11</td>\n",
       "      <td>-4.717830e+06</td>\n",
       "      <td>2.282669e+10</td>\n",
       "    </tr>\n",
       "    <tr>\n",
       "      <th>Delinquency_per</th>\n",
       "      <td>-6.968293e+02</td>\n",
       "      <td>-3.647941e+06</td>\n",
       "      <td>-9.455239e+04</td>\n",
       "      <td>1.694549e+02</td>\n",
       "      <td>-4.717830e+06</td>\n",
       "      <td>1.694549e+02</td>\n",
       "      <td>-1.290821e+05</td>\n",
       "    </tr>\n",
       "    <tr>\n",
       "      <th>Deli_amount</th>\n",
       "      <td>4.142846e+06</td>\n",
       "      <td>1.897865e+10</td>\n",
       "      <td>2.717667e+09</td>\n",
       "      <td>-1.290821e+05</td>\n",
       "      <td>2.282669e+10</td>\n",
       "      <td>-1.290821e+05</td>\n",
       "      <td>2.426051e+09</td>\n",
       "    </tr>\n",
       "  </tbody>\n",
       "</table>\n",
       "</div>"
      ],
      "text/plain": [
       "                   No_of_actC       Loan_CA       Arrears  Delinquency (%)  \\\n",
       "No_of_actC       1.198521e+04  5.692656e+07  4.227446e+06    -6.968293e+02   \n",
       "Loan_CA          5.692656e+07  2.852489e+11  1.763934e+10    -3.647941e+06   \n",
       "Arrears          4.227446e+06  1.763934e+10  3.363942e+09    -9.455239e+04   \n",
       "Delinquency (%) -6.968293e+02 -3.647941e+06 -9.455239e+04     1.694549e+02   \n",
       "Actual_recieved  7.209301e+07  3.623109e+11  2.083093e+10    -4.717830e+06   \n",
       "Delinquency_per -6.968293e+02 -3.647941e+06 -9.455239e+04     1.694549e+02   \n",
       "Deli_amount      4.142846e+06  1.897865e+10  2.717667e+09    -1.290821e+05   \n",
       "\n",
       "                 Actual_recieved  Delinquency_per   Deli_amount  \n",
       "No_of_actC          7.209301e+07    -6.968293e+02  4.142846e+06  \n",
       "Loan_CA             3.623109e+11    -3.647941e+06  1.897865e+10  \n",
       "Arrears             2.083093e+10    -9.455239e+04  2.717667e+09  \n",
       "Delinquency (%)    -4.717830e+06     1.694549e+02 -1.290821e+05  \n",
       "Actual_recieved     4.624570e+11    -4.717830e+06  2.282669e+10  \n",
       "Delinquency_per    -4.717830e+06     1.694549e+02 -1.290821e+05  \n",
       "Deli_amount         2.282669e+10    -1.290821e+05  2.426051e+09  "
      ]
     },
     "execution_count": 159,
     "metadata": {},
     "output_type": "execute_result"
    }
   ],
   "source": [
    "datag.cov()"
   ]
  },
  {
   "cell_type": "code",
   "execution_count": null,
   "id": "287b7c8e",
   "metadata": {},
   "outputs": [],
   "source": []
  },
  {
   "cell_type": "code",
   "execution_count": 157,
   "id": "72f8c755",
   "metadata": {},
   "outputs": [],
   "source": [
    "from scipy import stats\n",
    "slope,intercept,r_value,p_value,std_err= stats.linregress(datag['Deli_amount'], datag['Arrears'])"
   ]
  },
  {
   "cell_type": "code",
   "execution_count": 158,
   "id": "13daa3ec",
   "metadata": {},
   "outputs": [
    {
     "data": {
      "text/plain": [
       "<matplotlib.legend.Legend at 0x1ccde5541c0>"
      ]
     },
     "execution_count": 158,
     "metadata": {},
     "output_type": "execute_result"
    },
    {
     "data": {
      "image/png": "[encoded data removed]",
      "text/plain": [
       "<Figure size 432x288 with 1 Axes>"
      ]
     },
     "metadata": {
      "needs_background": "light"
     },
     "output_type": "display_data"
    }
   ],
   "source": [
    "ax=sns.regplot(y='Arrears', x='Deli_amount',fit_reg=True,\n",
    "           line_kws={'label':\"y={0:.1f}x+{1:.1f}\".format(slope,intercept)},data=datag)\n",
    "ax.legend()"
   ]
  },
  {
   "cell_type": "code",
   "execution_count": 165,
   "id": "88eb59a9",
   "metadata": {},
   "outputs": [
    {
     "data": {
      "text/plain": [
       "<AxesSubplot:>"
      ]
     },
     "execution_count": 165,
     "metadata": {},
     "output_type": "execute_result"
    },
    {
     "data": {
      "image/png": "[encoded data removed]",
      "text/plain": [
       "<Figure size 432x288 with 2 Axes>"
      ]
     },
     "metadata": {
      "needs_background": "light"
     },
     "output_type": "display_data"
    }
   ],
   "source": [
    "sns.heatmap(datag[['Arrears','Deli_amount']].corr(), annot=True)"
   ]
  },
  {
   "cell_type": "code",
   "execution_count": 151,
   "id": "f87a0b46",
   "metadata": {},
   "outputs": [
    {
     "data": {
      "text/plain": [
       "<seaborn.axisgrid.FacetGrid at 0x1ccde31fd90>"
      ]
     },
     "execution_count": 151,
     "metadata": {},
     "output_type": "execute_result"
    },
    {
     "data": {
      "image/png": "[encoded data removed]",
      "text/plain": [
       "<Figure size 360x360 with 1 Axes>"
      ]
     },
     "metadata": {
      "needs_background": "light"
     },
     "output_type": "display_data"
    }
   ],
   "source": [
    "sns.lmplot(y='Arrears', x='Deli_amount',fit_reg=True, data=datag)"
   ]
  },
  {
   "cell_type": "code",
   "execution_count": 135,
   "id": "73efdc48",
   "metadata": {},
   "outputs": [
    {
     "data": {
      "text/plain": [
       "<matplotlib.lines.Line2D at 0x1ccdcce4d60>"
      ]
     },
     "execution_count": 135,
     "metadata": {},
     "output_type": "execute_result"
    },
    {
     "data": {
      "image/png": "[encoded data removed]",
      "text/plain": [
       "<Figure size 432x288 with 1 Axes>"
      ]
     },
     "metadata": {
      "needs_background": "light"
     },
     "output_type": "display_data"
    }
   ],
   "source": [
    "sns.histplot(datag[\"Arrears\"], kde =True)\n",
    "plt.axvline(datag[\"Arrears\"].mean(), color=\"r\")\n",
    "plt.axvline(datag[\"Arrears\"].median(), color=\"k\")"
   ]
  },
  {
   "cell_type": "code",
   "execution_count": 139,
   "id": "8a7d5039",
   "metadata": {},
   "outputs": [],
   "source": [
    "from scipy import stats\n",
    "slope,intercept,r_value,p_value,std_err= stats.linregress(datag['Delinquency (%)'], datag['Arrears'])"
   ]
  },
  {
   "cell_type": "code",
   "execution_count": 140,
   "id": "d61b7c59",
   "metadata": {},
   "outputs": [
    {
     "data": {
      "text/plain": [
       "<matplotlib.legend.Legend at 0x1ccdde38910>"
      ]
     },
     "execution_count": 140,
     "metadata": {},
     "output_type": "execute_result"
    },
    {
     "data": {
      "image/png": "[encoded data removed]",
      "text/plain": [
       "<Figure size 432x288 with 1 Axes>"
      ]
     },
     "metadata": {
      "needs_background": "light"
     },
     "output_type": "display_data"
    }
   ],
   "source": [
    "ax=sns.regplot(y='Arrears', x='Delinquency (%)',fit_reg=True, \n",
    "           line_kws={'label':\"y={0:.1f}x+{1:.1f}\".format(slope,intercept)},data=datag)\n",
    "ax.legend()"
   ]
  },
  {
   "cell_type": "code",
   "execution_count": 136,
   "id": "5aff0967",
   "metadata": {},
   "outputs": [
    {
     "data": {
      "text/plain": [
       "<seaborn.axisgrid.FacetGrid at 0x1ccdcdb7f10>"
      ]
     },
     "execution_count": 136,
     "metadata": {},
     "output_type": "execute_result"
    },
    {
     "data": {
      "image/png": "[encoded data removed]",
      "text/plain": [
       "<Figure size 360x360 with 1 Axes>"
      ]
     },
     "metadata": {
      "needs_background": "light"
     },
     "output_type": "display_data"
    }
   ],
   "source": [
    "sns.lmplot(y='Arrears', x='Delinquency (%)',fit_reg=True, data=datag)"
   ]
  },
  {
   "cell_type": "code",
   "execution_count": null,
   "id": "f92c3e36",
   "metadata": {},
   "outputs": [],
   "source": []
  },
  {
   "cell_type": "code",
   "execution_count": null,
   "id": "b2645fce",
   "metadata": {},
   "outputs": [],
   "source": []
  },
  {
   "cell_type": "code",
   "execution_count": null,
   "id": "79690e70",
   "metadata": {},
   "outputs": [],
   "source": []
  },
  {
   "cell_type": "code",
   "execution_count": null,
   "id": "bd790f36",
   "metadata": {},
   "outputs": [],
   "source": []
  },
  {
   "cell_type": "code",
   "execution_count": null,
   "id": "8baf8d0c",
   "metadata": {},
   "outputs": [],
   "source": []
  },
  {
   "cell_type": "code",
   "execution_count": null,
   "id": "7d087809",
   "metadata": {},
   "outputs": [],
   "source": []
  },
  {
   "cell_type": "code",
   "execution_count": 39,
   "id": "68397175",
   "metadata": {},
   "outputs": [],
   "source": [
    "data1=data.groupby(\"Client Employer\").sum().sort_values(by=\"Arrears\", ascending=False).head(30)"
   ]
  },
  {
   "cell_type": "code",
   "execution_count": 40,
   "id": "93c7aed2",
   "metadata": {},
   "outputs": [
    {
     "data": {
      "text/plain": [
       "<matplotlib.lines.Line2D at 0x1ccd971edf0>"
      ]
     },
     "execution_count": 40,
     "metadata": {},
     "output_type": "execute_result"
    },
    {
     "data": {
      "image/png": "[encoded data removed]",
      "text/plain": [
       "<Figure size 432x288 with 1 Axes>"
      ]
     },
     "metadata": {
      "needs_background": "light"
     },
     "output_type": "display_data"
    }
   ],
   "source": [
    "sns.histplot(data1[\"Arrears\"], kde =True)\n",
    "plt.axvline(data1[\"Arrears\"].mean(), color=\"r\")\n",
    "plt.axvline(data1[\"Arrears\"].median(), color=\"k\")"
   ]
  },
  {
   "cell_type": "code",
   "execution_count": 21,
   "id": "0013002a",
   "metadata": {},
   "outputs": [],
   "source": [
    "sns.histplot?"
   ]
  },
  {
   "cell_type": "code",
   "execution_count": 41,
   "id": "c5eafa35",
   "metadata": {},
   "outputs": [],
   "source": [
    "data2=data.groupby(\"Client Employer\").sum().sort_values(by=\"Delinquency (%)\", ascending=False).head(30)"
   ]
  },
  {
   "cell_type": "code",
   "execution_count": 42,
   "id": "49336fd1",
   "metadata": {},
   "outputs": [
    {
     "data": {
      "text/html": [
       "<div>\n",
       "<style scoped>\n",
       "    .dataframe tbody tr th:only-of-type {\n",
       "        vertical-align: middle;\n",
       "    }\n",
       "\n",
       "    .dataframe tbody tr th {\n",
       "        vertical-align: top;\n",
       "    }\n",
       "\n",
       "    .dataframe thead th {\n",
       "        text-align: right;\n",
       "    }\n",
       "</style>\n",
       "<table border=\"1\" class=\"dataframe\">\n",
       "  <thead>\n",
       "    <tr style=\"text-align: right;\">\n",
       "      <th></th>\n",
       "      <th>No_of_actC</th>\n",
       "      <th>Loan_CA</th>\n",
       "      <th>Arrears</th>\n",
       "      <th>Delinquency (%)</th>\n",
       "      <th>Actual_recieved</th>\n",
       "    </tr>\n",
       "    <tr>\n",
       "      <th>Client Employer</th>\n",
       "      <th></th>\n",
       "      <th></th>\n",
       "      <th></th>\n",
       "      <th></th>\n",
       "      <th></th>\n",
       "    </tr>\n",
       "  </thead>\n",
       "  <tbody>\n",
       "    <tr>\n",
       "      <th>FASHION RETAILERS</th>\n",
       "      <td>13</td>\n",
       "      <td>20510</td>\n",
       "      <td>12282.68</td>\n",
       "      <td>357.00</td>\n",
       "      <td>17071.66</td>\n",
       "    </tr>\n",
       "    <tr>\n",
       "      <th>MINISTRY OF WORKS AND TRANSPORT</th>\n",
       "      <td>167</td>\n",
       "      <td>472840</td>\n",
       "      <td>223581.02</td>\n",
       "      <td>327.66</td>\n",
       "      <td>436061.34</td>\n",
       "    </tr>\n",
       "    <tr>\n",
       "      <th>AFRICA PERSONNEL SERVICES</th>\n",
       "      <td>123</td>\n",
       "      <td>142920</td>\n",
       "      <td>71456.02</td>\n",
       "      <td>309.30</td>\n",
       "      <td>127325.63</td>\n",
       "    </tr>\n",
       "    <tr>\n",
       "      <th>TRANSNAMIB HOLDING LTD.</th>\n",
       "      <td>111</td>\n",
       "      <td>429550</td>\n",
       "      <td>213227.74</td>\n",
       "      <td>282.27</td>\n",
       "      <td>375047.49</td>\n",
       "    </tr>\n",
       "    <tr>\n",
       "      <th>CROSSROADS DISTRIBUTION NAMIBIA (PTY) LTD</th>\n",
       "      <td>15</td>\n",
       "      <td>42250</td>\n",
       "      <td>26529.54</td>\n",
       "      <td>276.95</td>\n",
       "      <td>41787.93</td>\n",
       "    </tr>\n",
       "  </tbody>\n",
       "</table>\n",
       "</div>"
      ],
      "text/plain": [
       "                                           No_of_actC  Loan_CA    Arrears  \\\n",
       "Client Employer                                                             \n",
       "FASHION RETAILERS                                  13    20510   12282.68   \n",
       "MINISTRY OF WORKS AND TRANSPORT                   167   472840  223581.02   \n",
       "AFRICA PERSONNEL SERVICES                         123   142920   71456.02   \n",
       "TRANSNAMIB HOLDING LTD.                           111   429550  213227.74   \n",
       "CROSSROADS DISTRIBUTION NAMIBIA (PTY) LTD          15    42250   26529.54   \n",
       "\n",
       "                                           Delinquency (%)  Actual_recieved  \n",
       "Client Employer                                                              \n",
       "FASHION RETAILERS                                   357.00         17071.66  \n",
       "MINISTRY OF WORKS AND TRANSPORT                     327.66        436061.34  \n",
       "AFRICA PERSONNEL SERVICES                           309.30        127325.63  \n",
       "TRANSNAMIB HOLDING LTD.                             282.27        375047.49  \n",
       "CROSSROADS DISTRIBUTION NAMIBIA (PTY) LTD           276.95         41787.93  "
      ]
     },
     "execution_count": 42,
     "metadata": {},
     "output_type": "execute_result"
    }
   ],
   "source": [
    "data2.head()"
   ]
  },
  {
   "cell_type": "code",
   "execution_count": 61,
   "id": "8ecdfc63",
   "metadata": {},
   "outputs": [
    {
     "data": {
      "text/html": [
       "<div>\n",
       "<style scoped>\n",
       "    .dataframe tbody tr th:only-of-type {\n",
       "        vertical-align: middle;\n",
       "    }\n",
       "\n",
       "    .dataframe tbody tr th {\n",
       "        vertical-align: top;\n",
       "    }\n",
       "\n",
       "    .dataframe thead th {\n",
       "        text-align: right;\n",
       "    }\n",
       "</style>\n",
       "<table border=\"1\" class=\"dataframe\">\n",
       "  <thead>\n",
       "    <tr style=\"text-align: right;\">\n",
       "      <th></th>\n",
       "      <th>Loan_CA</th>\n",
       "      <th>Arrears</th>\n",
       "      <th>Delinquency (%)</th>\n",
       "    </tr>\n",
       "  </thead>\n",
       "  <tbody>\n",
       "    <tr>\n",
       "      <th>Loan_CA</th>\n",
       "      <td>1.000000</td>\n",
       "      <td>0.999001</td>\n",
       "      <td>0.148733</td>\n",
       "    </tr>\n",
       "    <tr>\n",
       "      <th>Arrears</th>\n",
       "      <td>0.999001</td>\n",
       "      <td>1.000000</td>\n",
       "      <td>0.156969</td>\n",
       "    </tr>\n",
       "    <tr>\n",
       "      <th>Delinquency (%)</th>\n",
       "      <td>0.148733</td>\n",
       "      <td>0.156969</td>\n",
       "      <td>1.000000</td>\n",
       "    </tr>\n",
       "  </tbody>\n",
       "</table>\n",
       "</div>"
      ],
      "text/plain": [
       "                  Loan_CA   Arrears  Delinquency (%)\n",
       "Loan_CA          1.000000  0.999001         0.148733\n",
       "Arrears          0.999001  1.000000         0.156969\n",
       "Delinquency (%)  0.148733  0.156969         1.000000"
      ]
     },
     "execution_count": 61,
     "metadata": {},
     "output_type": "execute_result"
    }
   ],
   "source": [
    "data2[[\"Loan_CA\",\"Arrears\",\"Delinquency (%)\"]].corr()"
   ]
  },
  {
   "cell_type": "code",
   "execution_count": 66,
   "id": "8dcfe727",
   "metadata": {},
   "outputs": [],
   "source": [
    "sns.heatmap?"
   ]
  },
  {
   "cell_type": "code",
   "execution_count": 112,
   "id": "513399d4",
   "metadata": {},
   "outputs": [
    {
     "data": {
      "text/plain": [
       "<AxesSubplot:>"
      ]
     },
     "execution_count": 112,
     "metadata": {},
     "output_type": "execute_result"
    },
    {
     "data": {
      "image/png": "[encoded data removed]",
      "text/plain": [
       "<Figure size 432x288 with 2 Axes>"
      ]
     },
     "metadata": {
      "needs_background": "light"
     },
     "output_type": "display_data"
    }
   ],
   "source": [
    "sns.heatmap(data2[[\"Loan_CA\",\"Arrears\",\"Delinquency (%)\"]].corr(), annot=True, cmap=\"Blues\")"
   ]
  },
  {
   "cell_type": "code",
   "execution_count": 52,
   "id": "b6451f18",
   "metadata": {},
   "outputs": [
    {
     "data": {
      "text/plain": [
       "<matplotlib.lines.Line2D at 0x1ccd8986bb0>"
      ]
     },
     "execution_count": 52,
     "metadata": {},
     "output_type": "execute_result"
    },
    {
     "data": {
      "image/png": "[encoded data removed]",
      "text/plain": [
       "<Figure size 432x288 with 1 Axes>"
      ]
     },
     "metadata": {
      "needs_background": "light"
     },
     "output_type": "display_data"
    }
   ],
   "source": [
    "\n",
    "sns.histplot(data2[\"Delinquency (%)\"], kde =True)\n",
    "plt.axvline(data2[\"Delinquency (%)\"].mean(), color=\"r\")\n",
    "plt.axvline(data2[\"Delinquency (%)\"].median(), color=\"k\")"
   ]
  },
  {
   "cell_type": "code",
   "execution_count": 98,
   "id": "b3bdae58",
   "metadata": {},
   "outputs": [
    {
     "data": {
      "text/plain": [
       "<seaborn.axisgrid.PairGrid at 0x1ccd725cd00>"
      ]
     },
     "execution_count": 98,
     "metadata": {},
     "output_type": "execute_result"
    },
    {
     "data": {
      "image/png": "[encoded data removed]",
      "text/plain": [
       "<Figure size 1512x1512 with 12 Axes>"
      ]
     },
     "metadata": {
      "needs_background": "light"
     },
     "output_type": "display_data"
    }
   ],
   "source": [
    "sns.pairplot(data2[[\"Loan_CA\",\"Arrears\",\"Delinquency (%)\"]], plot_kws={'color':'g'},\n",
    "                height=7)"
   ]
  },
  {
   "cell_type": "code",
   "execution_count": 102,
   "id": "464fe812",
   "metadata": {},
   "outputs": [
    {
     "data": {
      "text/plain": [
       "<seaborn.axisgrid.FacetGrid at 0x1ccd9773850>"
      ]
     },
     "execution_count": 102,
     "metadata": {},
     "output_type": "execute_result"
    },
    {
     "data": {
      "image/png": "[encoded data removed]",
      "text/plain": [
       "<Figure size 360x360 with 1 Axes>"
      ]
     },
     "metadata": {
      "needs_background": "light"
     },
     "output_type": "display_data"
    }
   ],
   "source": [
    "sns.lmplot(y='Arrears', x='Delinquency (%)',fit_reg=True, data=data2)"
   ]
  },
  {
   "cell_type": "code",
   "execution_count": 104,
   "id": "601a019e",
   "metadata": {},
   "outputs": [],
   "source": [
    "sns.regplot?"
   ]
  },
  {
   "cell_type": "code",
   "execution_count": 108,
   "id": "e6e5fc1f",
   "metadata": {},
   "outputs": [],
   "source": [
    "from scipy import stats\n",
    "slope,intercept,r_value,p_value,std_err= stats.linregress(data2['Delinquency (%)'], data2['Arrears'])"
   ]
  },
  {
   "cell_type": "code",
   "execution_count": 111,
   "id": "556f892e",
   "metadata": {},
   "outputs": [
    {
     "data": {
      "text/plain": [
       "<matplotlib.legend.Legend at 0x1ccdca5a160>"
      ]
     },
     "execution_count": 111,
     "metadata": {},
     "output_type": "execute_result"
    },
    {
     "data": {
      "image/png": "[encoded data removed]",
      "text/plain": [
       "<Figure size 432x288 with 1 Axes>"
      ]
     },
     "metadata": {
      "needs_background": "light"
     },
     "output_type": "display_data"
    }
   ],
   "source": [
    "ax=sns.regplot(y='Arrears', x='Delinquency (%)',fit_reg=True, \n",
    "           line_kws={'label':\"y={0:.1f}x+{1:.1f}\".format(slope,intercept)},data=data2)\n",
    "ax.legend()"
   ]
  },
  {
   "cell_type": "code",
   "execution_count": 99,
   "id": "fe70df37",
   "metadata": {},
   "outputs": [],
   "source": [
    "sns.lmplot?"
   ]
  },
  {
   "cell_type": "code",
   "execution_count": 90,
   "id": "2dcaeddf",
   "metadata": {},
   "outputs": [],
   "source": [
    "sns.distplot?"
   ]
  },
  {
   "cell_type": "code",
   "execution_count": 94,
   "id": "23d79a7f",
   "metadata": {},
   "outputs": [
    {
     "name": "stderr",
     "output_type": "stream",
     "text": [
      "C:\\Users\\USER 01\\anaconda3\\lib\\site-packages\\seaborn\\distributions.py:2557: FutureWarning: `distplot` is a deprecated function and will be removed in a future version. Please adapt your code to use either `displot` (a figure-level function with similar flexibility) or `histplot` (an axes-level function for histograms).\n",
      "  warnings.warn(msg, FutureWarning)\n"
     ]
    },
    {
     "data": {
      "text/plain": [
       "<matplotlib.lines.Line2D at 0x1ccdad81b80>"
      ]
     },
     "execution_count": 94,
     "metadata": {},
     "output_type": "execute_result"
    },
    {
     "data": {
      "image/png": "[encoded data removed]",
      "text/plain": [
       "<Figure size 432x288 with 1 Axes>"
      ]
     },
     "metadata": {
      "needs_background": "light"
     },
     "output_type": "display_data"
    }
   ],
   "source": [
    "sns.distplot(data2[\"Delinquency (%)\"], kde =True)\n",
    "plt.axvline(data2[\"Delinquency (%)\"].mean(), color=\"r\")\n",
    "plt.axvline(data2[\"Delinquency (%)\"].median(), color=\"k\")"
   ]
  },
  {
   "cell_type": "code",
   "execution_count": 55,
   "id": "98b89ef6",
   "metadata": {},
   "outputs": [],
   "source": [
    "mod=data2[\"Delinquency (%)\"].mode()"
   ]
  },
  {
   "cell_type": "code",
   "execution_count": 56,
   "id": "2f08a7ea",
   "metadata": {},
   "outputs": [],
   "source": [
    "mea=data2[\"Delinquency (%)\"].mean()"
   ]
  },
  {
   "cell_type": "code",
   "execution_count": 57,
   "id": "f3c3b042",
   "metadata": {},
   "outputs": [],
   "source": [
    "st=data2[\"Delinquency (%)\"].std()"
   ]
  },
  {
   "cell_type": "code",
   "execution_count": 58,
   "id": "2780d340",
   "metadata": {},
   "outputs": [],
   "source": [
    "skev=(mea-mod)/st"
   ]
  },
  {
   "cell_type": "code",
   "execution_count": 59,
   "id": "383e594c",
   "metadata": {},
   "outputs": [
    {
     "data": {
      "text/plain": [
       "0    0.643442\n",
       "dtype: float64"
      ]
     },
     "execution_count": 59,
     "metadata": {},
     "output_type": "execute_result"
    }
   ],
   "source": [
    "skev"
   ]
  },
  {
   "cell_type": "code",
   "execution_count": 85,
   "id": "a97ea8b4",
   "metadata": {},
   "outputs": [
    {
     "data": {
      "text/plain": [
       "<bound method Series.cov of Client Employer\n",
       "FASHION RETAILERS                                       357.00\n",
       "MINISTRY OF WORKS AND TRANSPORT                         327.66\n",
       "AFRICA PERSONNEL SERVICES                               309.30\n",
       "TRANSNAMIB HOLDING LTD.                                 282.27\n",
       "CROSSROADS DISTRIBUTION NAMIBIA (PTY) LTD               276.95\n",
       "MINISTRY OF URBAN AND RURAL DEVELOPMENT                 252.61\n",
       "MINISTRY OF DEFENCE                                     250.34\n",
       "MINISTRY OF JUSTICE                                     244.99\n",
       "MINISTRY OF HEALTH & SOCIAL SERVICES                    244.25\n",
       "MINISTRY OF ENVIRONMENT AND TOURISM                     243.26\n",
       "SANLAM NAMIBIA HOLDINGS                                 239.71\n",
       "BEST CHEER INVESTMENTS NAMIBIA                          230.41\n",
       "MINISTRY OF FISHERIES AND MARINE RESOURCES              224.62\n",
       "EAGLE NIGHT WATCH SECURITY CC                           220.79\n",
       "TRIUMPHANT COLLEGE                                      216.31\n",
       "MINISTRY OF FINANCE                                     215.02\n",
       "MINISTRY OF INFORMATION AND COMMUNICATION TECHNOLOGY    213.58\n",
       "MINISTRY OF LABOUR AND SOCIAL WELFARE                   210.47\n",
       "CHINA STATE CONSTRUCTION ENGINEERING                    200.00\n",
       "SURE CAST MINING AND CONSTRUCTION                       200.00\n",
       "FORMULA COURIER SERVICES                                199.40\n",
       "EDCON                                                   198.47\n",
       "M. PUPKEWITZ & SONS (ex BW) T/A PUPKEWITZ MEGABUILD     197.14\n",
       "A. WUTOW TRADING Co                                     195.92\n",
       "SPEARPOINT CONSULTING SERVICES                          189.60\n",
       "MINISTRY OF LAND AND RESETTLEMENT                       189.42\n",
       "I-TECH NAMIBIA                                          184.94\n",
       "DIVERSE DISTRIBUTION & MARKET                           183.05\n",
       "NICTUS HOLDINGS                                         182.09\n",
       "NAMDEB DIAMOND CORPORATION (PTY)LTD                     181.80\n",
       "Name: Delinquency (%), dtype: float64>"
      ]
     },
     "execution_count": 85,
     "metadata": {},
     "output_type": "execute_result"
    }
   ],
   "source": [
    "data2[\"Delinquency (%)\"].cov"
   ]
  },
  {
   "cell_type": "code",
   "execution_count": null,
   "id": "8df50191",
   "metadata": {},
   "outputs": [],
   "source": [
    "data2[\"Delinquency (%)\"].cov"
   ]
  },
  {
   "cell_type": "code",
   "execution_count": null,
   "id": "060954fb",
   "metadata": {},
   "outputs": [],
   "source": [
    "data2[\"Delinquency (%)\"].cov"
   ]
  },
  {
   "cell_type": "code",
   "execution_count": 68,
   "id": "8a6fac4c",
   "metadata": {},
   "outputs": [
    {
     "data": {
      "text/html": [
       "<div>\n",
       "<style scoped>\n",
       "    .dataframe tbody tr th:only-of-type {\n",
       "        vertical-align: middle;\n",
       "    }\n",
       "\n",
       "    .dataframe tbody tr th {\n",
       "        vertical-align: top;\n",
       "    }\n",
       "\n",
       "    .dataframe thead th {\n",
       "        text-align: right;\n",
       "    }\n",
       "</style>\n",
       "<table border=\"1\" class=\"dataframe\">\n",
       "  <thead>\n",
       "    <tr style=\"text-align: right;\">\n",
       "      <th></th>\n",
       "      <th>Client Employer</th>\n",
       "      <th>No_of_actC</th>\n",
       "      <th>Loan_CA</th>\n",
       "      <th>Arrears</th>\n",
       "      <th>Delinquency (%)</th>\n",
       "      <th>Actual_recieved</th>\n",
       "    </tr>\n",
       "  </thead>\n",
       "  <tbody>\n",
       "    <tr>\n",
       "      <th>0</th>\n",
       "      <td>ZIMMERMAN GARAGE (PTY) LTD</td>\n",
       "      <td>1</td>\n",
       "      <td>6650</td>\n",
       "      <td>2340.0</td>\n",
       "      <td>22.09</td>\n",
       "      <td>8255.01</td>\n",
       "    </tr>\n",
       "  </tbody>\n",
       "</table>\n",
       "</div>"
      ],
      "text/plain": [
       "              Client Employer  No_of_actC  Loan_CA  Arrears  Delinquency (%)  \\\n",
       "0  ZIMMERMAN GARAGE (PTY) LTD           1     6650   2340.0            22.09   \n",
       "\n",
       "   Actual_recieved  \n",
       "0          8255.01  "
      ]
     },
     "execution_count": 68,
     "metadata": {},
     "output_type": "execute_result"
    }
   ],
   "source": [
    "data.head(1)"
   ]
  },
  {
   "cell_type": "code",
   "execution_count": 71,
   "id": "a36fa899",
   "metadata": {},
   "outputs": [],
   "source": [
    "data3=data.groupby(\"Client Employer\").sum().sort_values(by=\"Delinquency (%)\", ascending=False).head(30)"
   ]
  },
  {
   "cell_type": "code",
   "execution_count": 70,
   "id": "c801e126",
   "metadata": {},
   "outputs": [
    {
     "data": {
      "text/html": [
       "<div>\n",
       "<style scoped>\n",
       "    .dataframe tbody tr th:only-of-type {\n",
       "        vertical-align: middle;\n",
       "    }\n",
       "\n",
       "    .dataframe tbody tr th {\n",
       "        vertical-align: top;\n",
       "    }\n",
       "\n",
       "    .dataframe thead th {\n",
       "        text-align: right;\n",
       "    }\n",
       "</style>\n",
       "<table border=\"1\" class=\"dataframe\">\n",
       "  <thead>\n",
       "    <tr style=\"text-align: right;\">\n",
       "      <th></th>\n",
       "      <th>No_of_actC</th>\n",
       "      <th>Loan_CA</th>\n",
       "      <th>Arrears</th>\n",
       "      <th>Delinquency (%)</th>\n",
       "      <th>Actual_recieved</th>\n",
       "    </tr>\n",
       "    <tr>\n",
       "      <th>Client Employer</th>\n",
       "      <th></th>\n",
       "      <th></th>\n",
       "      <th></th>\n",
       "      <th></th>\n",
       "      <th></th>\n",
       "    </tr>\n",
       "  </thead>\n",
       "  <tbody>\n",
       "    <tr>\n",
       "      <th>!OANOB PRIVATE HOSPITAL</th>\n",
       "      <td>4</td>\n",
       "      <td>5800</td>\n",
       "      <td>3394.02</td>\n",
       "      <td>38.71</td>\n",
       "      <td>6803.34</td>\n",
       "    </tr>\n",
       "    <tr>\n",
       "      <th>#HOME</th>\n",
       "      <td>1</td>\n",
       "      <td>1300</td>\n",
       "      <td>3856.67</td>\n",
       "      <td>100.00</td>\n",
       "      <td>0.00</td>\n",
       "    </tr>\n",
       "    <tr>\n",
       "      <th>A VAN DER WALT TRANSPORT NAM (PTY) LTD</th>\n",
       "      <td>8</td>\n",
       "      <td>26350</td>\n",
       "      <td>9865.00</td>\n",
       "      <td>61.04</td>\n",
       "      <td>25778.03</td>\n",
       "    </tr>\n",
       "    <tr>\n",
       "      <th>A. WUTOW TRADING Co</th>\n",
       "      <td>19</td>\n",
       "      <td>72900</td>\n",
       "      <td>15019.97</td>\n",
       "      <td>195.92</td>\n",
       "      <td>74346.59</td>\n",
       "    </tr>\n",
       "    <tr>\n",
       "      <th>AAA TRADING ENTERPRISES CC</th>\n",
       "      <td>1</td>\n",
       "      <td>1850</td>\n",
       "      <td>1365.00</td>\n",
       "      <td>39.62</td>\n",
       "      <td>2080.00</td>\n",
       "    </tr>\n",
       "  </tbody>\n",
       "</table>\n",
       "</div>"
      ],
      "text/plain": [
       "                                        No_of_actC  Loan_CA   Arrears  \\\n",
       "Client Employer                                                         \n",
       "!OANOB PRIVATE HOSPITAL                          4     5800   3394.02   \n",
       "#HOME                                            1     1300   3856.67   \n",
       "A VAN DER WALT TRANSPORT NAM (PTY) LTD           8    26350   9865.00   \n",
       "A. WUTOW TRADING Co                             19    72900  15019.97   \n",
       "AAA TRADING ENTERPRISES CC                       1     1850   1365.00   \n",
       "\n",
       "                                        Delinquency (%)  Actual_recieved  \n",
       "Client Employer                                                           \n",
       "!OANOB PRIVATE HOSPITAL                           38.71          6803.34  \n",
       "#HOME                                            100.00             0.00  \n",
       "A VAN DER WALT TRANSPORT NAM (PTY) LTD            61.04         25778.03  \n",
       "A. WUTOW TRADING Co                              195.92         74346.59  \n",
       "AAA TRADING ENTERPRISES CC                        39.62          2080.00  "
      ]
     },
     "execution_count": 70,
     "metadata": {},
     "output_type": "execute_result"
    }
   ],
   "source": [
    "data3.head()"
   ]
  },
  {
   "cell_type": "code",
   "execution_count": 77,
   "id": "8f18e7fa",
   "metadata": {},
   "outputs": [],
   "source": [
    "data_co=data3=data.groupby(\"Client Employer\").mean().sort_values(by=\"Delinquency (%)\", ascending=False).head(30)"
   ]
  },
  {
   "cell_type": "code",
   "execution_count": 78,
   "id": "562ac425",
   "metadata": {},
   "outputs": [
    {
     "data": {
      "text/html": [
       "<div>\n",
       "<style scoped>\n",
       "    .dataframe tbody tr th:only-of-type {\n",
       "        vertical-align: middle;\n",
       "    }\n",
       "\n",
       "    .dataframe tbody tr th {\n",
       "        vertical-align: top;\n",
       "    }\n",
       "\n",
       "    .dataframe thead th {\n",
       "        text-align: right;\n",
       "    }\n",
       "</style>\n",
       "<table border=\"1\" class=\"dataframe\">\n",
       "  <thead>\n",
       "    <tr style=\"text-align: right;\">\n",
       "      <th></th>\n",
       "      <th>No_of_actC</th>\n",
       "      <th>Loan_CA</th>\n",
       "      <th>Arrears</th>\n",
       "      <th>Delinquency (%)</th>\n",
       "      <th>Actual_recieved</th>\n",
       "    </tr>\n",
       "    <tr>\n",
       "      <th>Client Employer</th>\n",
       "      <th></th>\n",
       "      <th></th>\n",
       "      <th></th>\n",
       "      <th></th>\n",
       "      <th></th>\n",
       "    </tr>\n",
       "  </thead>\n",
       "  <tbody>\n",
       "    <tr>\n",
       "      <th>PROTECTION ENGINEERING NAMIBIA</th>\n",
       "      <td>3.0</td>\n",
       "      <td>3900.0</td>\n",
       "      <td>3336.66</td>\n",
       "      <td>158.48</td>\n",
       "      <td>1200.00</td>\n",
       "    </tr>\n",
       "    <tr>\n",
       "      <th>PROTEA HOTEL WALVIS BAY</th>\n",
       "      <td>3.0</td>\n",
       "      <td>2900.0</td>\n",
       "      <td>1250.00</td>\n",
       "      <td>135.71</td>\n",
       "      <td>1170.00</td>\n",
       "    </tr>\n",
       "    <tr>\n",
       "      <th>OTJIWARONGO ART CENTRE</th>\n",
       "      <td>0.0</td>\n",
       "      <td>0.0</td>\n",
       "      <td>736.66</td>\n",
       "      <td>100.00</td>\n",
       "      <td>0.00</td>\n",
       "    </tr>\n",
       "    <tr>\n",
       "      <th>ONGENGE ENGLISH PRIVATE SCHOOL</th>\n",
       "      <td>1.0</td>\n",
       "      <td>1000.0</td>\n",
       "      <td>1300.00</td>\n",
       "      <td>100.00</td>\n",
       "      <td>0.00</td>\n",
       "    </tr>\n",
       "    <tr>\n",
       "      <th>RU-MAINE CLEARING AGENTS</th>\n",
       "      <td>1.0</td>\n",
       "      <td>2000.0</td>\n",
       "      <td>891.64</td>\n",
       "      <td>100.00</td>\n",
       "      <td>0.00</td>\n",
       "    </tr>\n",
       "    <tr>\n",
       "      <th>TSUMEB HOSPITAL HOLDINGS (PTY) LTD</th>\n",
       "      <td>1.0</td>\n",
       "      <td>2800.0</td>\n",
       "      <td>1246.01</td>\n",
       "      <td>100.00</td>\n",
       "      <td>0.00</td>\n",
       "    </tr>\n",
       "    <tr>\n",
       "      <th>OOSTHUISEN MOTORS</th>\n",
       "      <td>1.0</td>\n",
       "      <td>1600.0</td>\n",
       "      <td>693.33</td>\n",
       "      <td>100.00</td>\n",
       "      <td>0.00</td>\n",
       "    </tr>\n",
       "    <tr>\n",
       "      <th>NAM TRANSPORT AND ALLIED WORKERS</th>\n",
       "      <td>0.0</td>\n",
       "      <td>0.0</td>\n",
       "      <td>3163.33</td>\n",
       "      <td>100.00</td>\n",
       "      <td>0.00</td>\n",
       "    </tr>\n",
       "    <tr>\n",
       "      <th>CAFO-USAID</th>\n",
       "      <td>1.0</td>\n",
       "      <td>8500.0</td>\n",
       "      <td>11050.00</td>\n",
       "      <td>100.00</td>\n",
       "      <td>0.00</td>\n",
       "    </tr>\n",
       "    <tr>\n",
       "      <th>FOREMAN AUTO CLINIC</th>\n",
       "      <td>1.0</td>\n",
       "      <td>700.0</td>\n",
       "      <td>910.00</td>\n",
       "      <td>100.00</td>\n",
       "      <td>910.00</td>\n",
       "    </tr>\n",
       "    <tr>\n",
       "      <th>SOUTHERN ROAD CONTSTRUCTION CC T/A</th>\n",
       "      <td>0.0</td>\n",
       "      <td>0.0</td>\n",
       "      <td>780.00</td>\n",
       "      <td>100.00</td>\n",
       "      <td>0.00</td>\n",
       "    </tr>\n",
       "    <tr>\n",
       "      <th>RUNDU NBL AGENCY</th>\n",
       "      <td>2.0</td>\n",
       "      <td>1200.0</td>\n",
       "      <td>1440.00</td>\n",
       "      <td>100.00</td>\n",
       "      <td>540.00</td>\n",
       "    </tr>\n",
       "    <tr>\n",
       "      <th>ONGOPOLO MINING LIMITED</th>\n",
       "      <td>0.0</td>\n",
       "      <td>0.0</td>\n",
       "      <td>5200.00</td>\n",
       "      <td>100.00</td>\n",
       "      <td>0.00</td>\n",
       "    </tr>\n",
       "    <tr>\n",
       "      <th>FMK PROTECTION SERVICES</th>\n",
       "      <td>2.0</td>\n",
       "      <td>1500.0</td>\n",
       "      <td>1300.00</td>\n",
       "      <td>100.00</td>\n",
       "      <td>0.00</td>\n",
       "    </tr>\n",
       "    <tr>\n",
       "      <th>OLIVE GROVE GUESTHOUSE</th>\n",
       "      <td>1.0</td>\n",
       "      <td>700.0</td>\n",
       "      <td>411.66</td>\n",
       "      <td>100.00</td>\n",
       "      <td>0.00</td>\n",
       "    </tr>\n",
       "    <tr>\n",
       "      <th>FIX-IT ALL</th>\n",
       "      <td>1.0</td>\n",
       "      <td>800.0</td>\n",
       "      <td>1000.00</td>\n",
       "      <td>100.00</td>\n",
       "      <td>0.00</td>\n",
       "    </tr>\n",
       "    <tr>\n",
       "      <th>ONDILI LODGE &amp; ACTIVITIES</th>\n",
       "      <td>2.0</td>\n",
       "      <td>2070.0</td>\n",
       "      <td>2691.00</td>\n",
       "      <td>100.00</td>\n",
       "      <td>0.00</td>\n",
       "    </tr>\n",
       "    <tr>\n",
       "      <th>ONDANGWA FARMERS MARKET</th>\n",
       "      <td>1.0</td>\n",
       "      <td>700.0</td>\n",
       "      <td>840.00</td>\n",
       "      <td>100.00</td>\n",
       "      <td>0.00</td>\n",
       "    </tr>\n",
       "    <tr>\n",
       "      <th>FCH CLEANING AND MAINTENANCE</th>\n",
       "      <td>1.0</td>\n",
       "      <td>700.0</td>\n",
       "      <td>875.00</td>\n",
       "      <td>100.00</td>\n",
       "      <td>0.00</td>\n",
       "    </tr>\n",
       "    <tr>\n",
       "      <th>SOMSES CLEANING SERVICES</th>\n",
       "      <td>1.0</td>\n",
       "      <td>1650.0</td>\n",
       "      <td>2145.00</td>\n",
       "      <td>100.00</td>\n",
       "      <td>2145.00</td>\n",
       "    </tr>\n",
       "    <tr>\n",
       "      <th>FARM IRVINGTON NO 744</th>\n",
       "      <td>1.0</td>\n",
       "      <td>450.0</td>\n",
       "      <td>585.00</td>\n",
       "      <td>100.00</td>\n",
       "      <td>0.00</td>\n",
       "    </tr>\n",
       "    <tr>\n",
       "      <th>OMBENGU ENERGY CC</th>\n",
       "      <td>1.0</td>\n",
       "      <td>1800.0</td>\n",
       "      <td>2340.00</td>\n",
       "      <td>100.00</td>\n",
       "      <td>0.00</td>\n",
       "    </tr>\n",
       "    <tr>\n",
       "      <th>NAMIB RAND SAFARIS( PTY)</th>\n",
       "      <td>1.0</td>\n",
       "      <td>2000.0</td>\n",
       "      <td>1733.34</td>\n",
       "      <td>100.00</td>\n",
       "      <td>866.66</td>\n",
       "    </tr>\n",
       "    <tr>\n",
       "      <th>FOURIE SECURITY &amp; ARMED RESPONSE CC</th>\n",
       "      <td>1.0</td>\n",
       "      <td>950.0</td>\n",
       "      <td>1235.00</td>\n",
       "      <td>100.00</td>\n",
       "      <td>1430.00</td>\n",
       "    </tr>\n",
       "    <tr>\n",
       "      <th>WATKINS VALEUR - NAMIBIAN</th>\n",
       "      <td>1.0</td>\n",
       "      <td>9800.0</td>\n",
       "      <td>6500.00</td>\n",
       "      <td>100.00</td>\n",
       "      <td>0.00</td>\n",
       "    </tr>\n",
       "    <tr>\n",
       "      <th>FOURWAYS CONSTRUCTION CC</th>\n",
       "      <td>1.0</td>\n",
       "      <td>750.0</td>\n",
       "      <td>975.00</td>\n",
       "      <td>100.00</td>\n",
       "      <td>1235.00</td>\n",
       "    </tr>\n",
       "    <tr>\n",
       "      <th>MONITRONIC SUCCESS COLLEGE</th>\n",
       "      <td>0.0</td>\n",
       "      <td>0.0</td>\n",
       "      <td>1950.00</td>\n",
       "      <td>100.00</td>\n",
       "      <td>0.00</td>\n",
       "    </tr>\n",
       "    <tr>\n",
       "      <th>GREEN ZONE TRADING ENTERPRISE</th>\n",
       "      <td>1.0</td>\n",
       "      <td>1000.0</td>\n",
       "      <td>433.33</td>\n",
       "      <td>100.00</td>\n",
       "      <td>1408.34</td>\n",
       "    </tr>\n",
       "    <tr>\n",
       "      <th>#HOME</th>\n",
       "      <td>1.0</td>\n",
       "      <td>1300.0</td>\n",
       "      <td>3856.67</td>\n",
       "      <td>100.00</td>\n",
       "      <td>0.00</td>\n",
       "    </tr>\n",
       "    <tr>\n",
       "      <th>TOTAL NAMIBIA</th>\n",
       "      <td>0.0</td>\n",
       "      <td>0.0</td>\n",
       "      <td>585.00</td>\n",
       "      <td>100.00</td>\n",
       "      <td>0.00</td>\n",
       "    </tr>\n",
       "  </tbody>\n",
       "</table>\n",
       "</div>"
      ],
      "text/plain": [
       "                                     No_of_actC  Loan_CA   Arrears  \\\n",
       "Client Employer                                                      \n",
       "PROTECTION ENGINEERING NAMIBIA              3.0   3900.0   3336.66   \n",
       "PROTEA HOTEL WALVIS BAY                     3.0   2900.0   1250.00   \n",
       "OTJIWARONGO ART CENTRE                      0.0      0.0    736.66   \n",
       "ONGENGE ENGLISH PRIVATE SCHOOL              1.0   1000.0   1300.00   \n",
       "RU-MAINE CLEARING AGENTS                    1.0   2000.0    891.64   \n",
       "TSUMEB HOSPITAL HOLDINGS (PTY) LTD          1.0   2800.0   1246.01   \n",
       "OOSTHUISEN MOTORS                           1.0   1600.0    693.33   \n",
       "NAM TRANSPORT AND ALLIED WORKERS            0.0      0.0   3163.33   \n",
       "CAFO-USAID                                  1.0   8500.0  11050.00   \n",
       "FOREMAN AUTO CLINIC                         1.0    700.0    910.00   \n",
       "SOUTHERN ROAD CONTSTRUCTION CC T/A          0.0      0.0    780.00   \n",
       "RUNDU NBL AGENCY                            2.0   1200.0   1440.00   \n",
       "ONGOPOLO MINING LIMITED                     0.0      0.0   5200.00   \n",
       "FMK PROTECTION SERVICES                     2.0   1500.0   1300.00   \n",
       "OLIVE GROVE GUESTHOUSE                      1.0    700.0    411.66   \n",
       "FIX-IT ALL                                  1.0    800.0   1000.00   \n",
       "ONDILI LODGE & ACTIVITIES                   2.0   2070.0   2691.00   \n",
       "ONDANGWA FARMERS MARKET                     1.0    700.0    840.00   \n",
       "FCH CLEANING AND MAINTENANCE                1.0    700.0    875.00   \n",
       "SOMSES CLEANING SERVICES                    1.0   1650.0   2145.00   \n",
       "FARM IRVINGTON NO 744                       1.0    450.0    585.00   \n",
       "OMBENGU ENERGY CC                           1.0   1800.0   2340.00   \n",
       "NAMIB RAND SAFARIS( PTY)                    1.0   2000.0   1733.34   \n",
       "FOURIE SECURITY & ARMED RESPONSE CC         1.0    950.0   1235.00   \n",
       "WATKINS VALEUR - NAMIBIAN                   1.0   9800.0   6500.00   \n",
       "FOURWAYS CONSTRUCTION CC                    1.0    750.0    975.00   \n",
       "MONITRONIC SUCCESS COLLEGE                  0.0      0.0   1950.00   \n",
       "GREEN ZONE TRADING ENTERPRISE               1.0   1000.0    433.33   \n",
       "#HOME                                       1.0   1300.0   3856.67   \n",
       "TOTAL NAMIBIA                               0.0      0.0    585.00   \n",
       "\n",
       "                                     Delinquency (%)  Actual_recieved  \n",
       "Client Employer                                                        \n",
       "PROTECTION ENGINEERING NAMIBIA                158.48          1200.00  \n",
       "PROTEA HOTEL WALVIS BAY                       135.71          1170.00  \n",
       "OTJIWARONGO ART CENTRE                        100.00             0.00  \n",
       "ONGENGE ENGLISH PRIVATE SCHOOL                100.00             0.00  \n",
       "RU-MAINE CLEARING AGENTS                      100.00             0.00  \n",
       "TSUMEB HOSPITAL HOLDINGS (PTY) LTD            100.00             0.00  \n",
       "OOSTHUISEN MOTORS                             100.00             0.00  \n",
       "NAM TRANSPORT AND ALLIED WORKERS              100.00             0.00  \n",
       "CAFO-USAID                                    100.00             0.00  \n",
       "FOREMAN AUTO CLINIC                           100.00           910.00  \n",
       "SOUTHERN ROAD CONTSTRUCTION CC T/A            100.00             0.00  \n",
       "RUNDU NBL AGENCY                              100.00           540.00  \n",
       "ONGOPOLO MINING LIMITED                       100.00             0.00  \n",
       "FMK PROTECTION SERVICES                       100.00             0.00  \n",
       "OLIVE GROVE GUESTHOUSE                        100.00             0.00  \n",
       "FIX-IT ALL                                    100.00             0.00  \n",
       "ONDILI LODGE & ACTIVITIES                     100.00             0.00  \n",
       "ONDANGWA FARMERS MARKET                       100.00             0.00  \n",
       "FCH CLEANING AND MAINTENANCE                  100.00             0.00  \n",
       "SOMSES CLEANING SERVICES                      100.00          2145.00  \n",
       "FARM IRVINGTON NO 744                         100.00             0.00  \n",
       "OMBENGU ENERGY CC                             100.00             0.00  \n",
       "NAMIB RAND SAFARIS( PTY)                      100.00           866.66  \n",
       "FOURIE SECURITY & ARMED RESPONSE CC           100.00          1430.00  \n",
       "WATKINS VALEUR - NAMIBIAN                     100.00             0.00  \n",
       "FOURWAYS CONSTRUCTION CC                      100.00          1235.00  \n",
       "MONITRONIC SUCCESS COLLEGE                    100.00             0.00  \n",
       "GREEN ZONE TRADING ENTERPRISE                 100.00          1408.34  \n",
       "#HOME                                         100.00             0.00  \n",
       "TOTAL NAMIBIA                                 100.00             0.00  "
      ]
     },
     "execution_count": 78,
     "metadata": {},
     "output_type": "execute_result"
    }
   ],
   "source": [
    "data_co"
   ]
  },
  {
   "cell_type": "code",
   "execution_count": 1,
   "id": "ee86e248",
   "metadata": {},
   "outputs": [],
   "source": [
    "#data3['Delinquency_p(%)']=data_co[\"Delinquency (%)\"]"
   ]
  },
  {
   "cell_type": "code",
   "execution_count": null,
   "id": "cd9443be",
   "metadata": {},
   "outputs": [],
   "source": []
  },
  {
   "cell_type": "code",
   "execution_count": null,
   "id": "aab55b3a",
   "metadata": {},
   "outputs": [],
   "source": []
  },
  {
   "cell_type": "code",
   "execution_count": null,
   "id": "aed45fcc",
   "metadata": {},
   "outputs": [],
   "source": []
  }
 ],
 "metadata": {
  "kernelspec": {
   "display_name": "Python 3",
   "language": "python",
   "name": "python3"
  },
  "language_info": {
   "codemirror_mode": {
    "name": "ipython",
    "version": 3
   },
   "file_extension": ".py",
   "mimetype": "text/x-python",
   "name": "python",
   "nbconvert_exporter": "python",
   "pygments_lexer": "ipython3",
   "version": "3.8.8"
  }
 },
 "nbformat": 4,
 "nbformat_minor": 5
}
